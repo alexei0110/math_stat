{
 "cells": [
  {
   "cell_type": "markdown",
   "id": "2ac4e526",
   "metadata": {},
   "source": [
    "### Урок 6. Взаимосвязь величин. Параметрические и непараметрические показатели корреляции. Корреляционный анализ. "
   ]
  },
  {
   "cell_type": "code",
   "execution_count": 32,
   "id": "ecbf0f8c",
   "metadata": {},
   "outputs": [],
   "source": [
    "import numpy as np\n",
    "import pandas as pd\n",
    "from scipy import stats"
   ]
  },
  {
   "cell_type": "markdown",
   "id": "3fc6bc00",
   "metadata": {},
   "source": [
    "### 1. Даны значения величины заработной платы заемщиков банка (zp) и значения их поведенческого кредитного скоринга (ks): zp = [35, 45, 190, 200, 40, 70, 54, 150, 120, 110], ks = [401, 574, 874, 919, 459, 739, 653, 902, 746, 832]. Найдите ковариацию этих двух величин с помощью элементарных действий, а затем с помощью функции cov из numpy. Полученные значения должны быть равны. Найдите коэффициент корреляции Пирсона с помощью ковариации и среднеквадратичных отклонений двух признаков, а затем с использованием функций из библиотек numpy и pandas. "
   ]
  },
  {
   "cell_type": "code",
   "execution_count": 33,
   "id": "a3b68820",
   "metadata": {},
   "outputs": [
    {
     "data": {
      "text/plain": [
       "array([ 35,  45, 190, 200,  40,  70,  54, 150, 120, 110])"
      ]
     },
     "execution_count": 33,
     "metadata": {},
     "output_type": "execute_result"
    }
   ],
   "source": [
    "zp = np.array([35, 45, 190, 200, 40, 70, 54, 150, 120, 110])\n",
    "zp"
   ]
  },
  {
   "cell_type": "code",
   "execution_count": 34,
   "id": "9f709dcb",
   "metadata": {},
   "outputs": [
    {
     "data": {
      "text/plain": [
       "array([401, 574, 874, 919, 459, 739, 653, 902, 746, 832])"
      ]
     },
     "execution_count": 34,
     "metadata": {},
     "output_type": "execute_result"
    }
   ],
   "source": [
    "ks = np.array([401, 574, 874, 919, 459, 739, 653, 902, 746, 832])\n",
    "ks"
   ]
  },
  {
   "cell_type": "code",
   "execution_count": 35,
   "id": "c1a7ed44",
   "metadata": {},
   "outputs": [
    {
     "data": {
      "text/plain": [
       "9157.839999999997"
      ]
     },
     "execution_count": 35,
     "metadata": {},
     "output_type": "execute_result"
    }
   ],
   "source": [
    "# Вычислим ковариацию по формуле:\n",
    "cov = np.mean(zp*ks) - np.mean(zp)*np.mean(ks)\n",
    "cov"
   ]
  },
  {
   "cell_type": "code",
   "execution_count": 36,
   "id": "cc85ae7a",
   "metadata": {},
   "outputs": [
    {
     "data": {
      "text/plain": [
       "9157.840000000002"
      ]
     },
     "execution_count": 36,
     "metadata": {},
     "output_type": "execute_result"
    }
   ],
   "source": [
    "# Найдем ковариацию с помощью функции cov из numpy:\n",
    "np.cov(zp, ks, ddof=0) [0, 1]  "
   ]
  },
  {
   "cell_type": "markdown",
   "id": "55fd35e8",
   "metadata": {},
   "source": [
    "Вывод: полученные значения ковариаций равны."
   ]
  },
  {
   "cell_type": "code",
   "execution_count": 37,
   "id": "7526cc19",
   "metadata": {},
   "outputs": [
    {
     "data": {
      "text/plain": [
       "0.8874900920739163"
      ]
     },
     "execution_count": 37,
     "metadata": {},
     "output_type": "execute_result"
    }
   ],
   "source": [
    "# Найдем коэффициент корреляции Пирсона с помощью ковариации и среднеквадратичных отклонений двух признаков:\n",
    "corrcoef = np.cov(zp, ks, ddof=0) [0, 1] / (np.std(zp, ddof=0) * np.std(ks, ddof=0))\n",
    "corrcoef"
   ]
  },
  {
   "cell_type": "code",
   "execution_count": 38,
   "id": "e5a96fcb",
   "metadata": {},
   "outputs": [
    {
     "data": {
      "text/plain": [
       "0.8874900920739163"
      ]
     },
     "execution_count": 38,
     "metadata": {},
     "output_type": "execute_result"
    }
   ],
   "source": [
    "# Найдем коэффициент корреляции Пирсона с помощью функции из библиотеки numpy:\n",
    "np.corrcoef(zp, ks)[0, 1]"
   ]
  },
  {
   "cell_type": "code",
   "execution_count": 39,
   "id": "2d527d7e",
   "metadata": {},
   "outputs": [
    {
     "data": {
      "text/plain": [
       "0.8874900920739168"
      ]
     },
     "execution_count": 39,
     "metadata": {},
     "output_type": "execute_result"
    }
   ],
   "source": [
    "# Найдем коэффициент корреляции Пирсона с помощью функции из библиотеки pandas:\n",
    "df = pd.DataFrame({'zp': zp, 'ks': ks}, columns=['zp', 'ks'])\n",
    "r_pd = df.corr().values[0, 1]\n",
    "r_pd"
   ]
  },
  {
   "cell_type": "markdown",
   "id": "b381eea1",
   "metadata": {},
   "source": [
    "### 2. Измерены значения IQ выборки студентов, обучающихся в местных технических вузах: 131, 125, 115, 122, 131, 115, 107, 99, 125, 111. Известно, что в генеральной совокупности IQ распределен нормально. Найдите доверительный интервал для математического ожидания с надежностью 0.95."
   ]
  },
  {
   "cell_type": "code",
   "execution_count": 40,
   "id": "69320bda",
   "metadata": {},
   "outputs": [
    {
     "data": {
      "text/plain": [
       "array([131, 125, 115, 122, 131, 115, 107,  99, 125, 111])"
      ]
     },
     "execution_count": 40,
     "metadata": {},
     "output_type": "execute_result"
    }
   ],
   "source": [
    "iq = np.array([131, 125, 115, 122, 131, 115, 107, 99, 125, 111])\n",
    "iq"
   ]
  },
  {
   "cell_type": "code",
   "execution_count": 41,
   "id": "eee90c74",
   "metadata": {},
   "outputs": [
    {
     "data": {
      "text/plain": [
       "118.1"
      ]
     },
     "execution_count": 41,
     "metadata": {},
     "output_type": "execute_result"
    }
   ],
   "source": [
    "mu = np.mean(iq) # среднее по выборке\n",
    "mu"
   ]
  },
  {
   "cell_type": "code",
   "execution_count": 42,
   "id": "c56bd34d",
   "metadata": {},
   "outputs": [
    {
     "data": {
      "text/plain": [
       "10.54566788359614"
      ]
     },
     "execution_count": 42,
     "metadata": {},
     "output_type": "execute_result"
    }
   ],
   "source": [
    "std = np.std(iq, ddof=1) # несмещенное стандартное отклонение\n",
    "std"
   ]
  },
  {
   "cell_type": "code",
   "execution_count": 43,
   "id": "77b80fc9",
   "metadata": {},
   "outputs": [
    {
     "data": {
      "text/plain": [
       "(-2.2621571627409915, 2.2621571627409915)"
      ]
     },
     "execution_count": 43,
     "metadata": {},
     "output_type": "execute_result"
    }
   ],
   "source": [
    "p = 0.95\n",
    "alpha = 1 - p\n",
    "n = 10\n",
    "# найдем критерии Стьюдента:\n",
    "t1 = stats.t.ppf(alpha / 2, df = n - 1)\n",
    "t2 = stats.t.ppf(1 - alpha / 2, df = n - 1)\n",
    "t1, t2"
   ]
  },
  {
   "cell_type": "code",
   "execution_count": 44,
   "id": "956389c9",
   "metadata": {},
   "outputs": [
    {
     "name": "stdout",
     "output_type": "stream",
     "text": [
      "Ответ: доверительный интервал (110.55608365158724; 125.64391634841274)\n"
     ]
    }
   ],
   "source": [
    "a1 = mu + t1 * std / np.sqrt(n) # левая граница\n",
    "a2 = mu + t2 * std / np.sqrt(n) # правая граница\n",
    "\n",
    "print(f'Ответ: доверительный интервал ({a1}; {a2})')"
   ]
  },
  {
   "cell_type": "markdown",
   "id": "0d0f1242",
   "metadata": {},
   "source": [
    "### 3. Известно, что рост футболистов в сборной распределен нормально с дисперсией генеральной совокупности, равной 25 кв.см. Объем выборки равен 27, среднее выборочное составляет 174.2. Найдите доверительный интервал для математического ожидания с надежностью 0.95. "
   ]
  },
  {
   "cell_type": "code",
   "execution_count": 45,
   "id": "296b2497",
   "metadata": {},
   "outputs": [
    {
     "data": {
      "text/plain": [
       "(-1.959963984540054, 1.959963984540054)"
      ]
     },
     "execution_count": 45,
     "metadata": {},
     "output_type": "execute_result"
    }
   ],
   "source": [
    "std = np.sqrt(25)\n",
    "n = 27\n",
    "mu = 174.2\n",
    "p = 0.95\n",
    "alpha = 1 - p\n",
    "# считаем z-критерии:\n",
    "z1 = stats.norm.ppf(alpha / 2)\n",
    "z2 = stats.norm.ppf(1 - alpha / 2)\n",
    "z1, z2"
   ]
  },
  {
   "cell_type": "code",
   "execution_count": 46,
   "id": "ebd44aae",
   "metadata": {},
   "outputs": [
    {
     "name": "stdout",
     "output_type": "stream",
     "text": [
      "Ответ: доверительный интервал (172.3140237765397; 176.08597622346028)\n"
     ]
    }
   ],
   "source": [
    "a1 = mu + z1 * std / np.sqrt(n) # левая граница\n",
    "a2 = mu + z2 * std / np.sqrt(n) # правая граница\n",
    "\n",
    "print(f'Ответ: доверительный интервал ({a1}; {a2})')"
   ]
  },
  {
   "cell_type": "code",
   "execution_count": null,
   "id": "5a9a02eb",
   "metadata": {},
   "outputs": [],
   "source": []
  }
 ],
 "metadata": {
  "kernelspec": {
   "display_name": "Python 3 (ipykernel)",
   "language": "python",
   "name": "python3"
  },
  "language_info": {
   "codemirror_mode": {
    "name": "ipython",
    "version": 3
   },
   "file_extension": ".py",
   "mimetype": "text/x-python",
   "name": "python",
   "nbconvert_exporter": "python",
   "pygments_lexer": "ipython3",
   "version": "3.9.7"
  }
 },
 "nbformat": 4,
 "nbformat_minor": 5
}
