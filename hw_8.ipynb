{
 "cells": [
  {
   "cell_type": "code",
   "execution_count": 13,
   "id": "bae3b286",
   "metadata": {},
   "outputs": [],
   "source": [
    "import numpy as np\n",
    "from scipy import stats"
   ]
  },
  {
   "cell_type": "markdown",
   "id": "64f885f6",
   "metadata": {},
   "source": [
    "### 1. Провести дисперсионный анализ для определения того, есть ли различия среднего роста среди взрослых футболистов, хоккеистов и штангистов. Даны значения роста в трех группах случайно выбранных спортсменов: Футболисты: 173, 175, 180, 178, 177, 185, 183, 182. Хоккеисты: 177, 179, 180, 188, 177, 172, 171, 184, 180. Штангисты: 172, 173, 169, 177, 166, 180, 178, 177, 172, 166, 170. alpha = 0.05. "
   ]
  },
  {
   "cell_type": "code",
   "execution_count": 14,
   "id": "cad5322a",
   "metadata": {},
   "outputs": [],
   "source": [
    "football = np.array([173, 175, 180, 178, 177, 185, 183, 182])\n",
    "hockey = np.array([177, 179, 180, 188, 177, 172, 171, 184, 180])\n",
    "weight = np.array([172, 173, 169, 177, 166, 180, 178, 177, 172, 166, 170])\n",
    "alpha = 0.05\n",
    "n = football.size + hockey.size + weight.size\n",
    "k = 3"
   ]
  },
  {
   "cell_type": "code",
   "execution_count": 15,
   "id": "fe4b71d6",
   "metadata": {},
   "outputs": [
    {
     "data": {
      "text/plain": [
       "3.3851899614491687"
      ]
     },
     "execution_count": 15,
     "metadata": {},
     "output_type": "execute_result"
    }
   ],
   "source": [
    "F_critical = stats.f.ppf(1 - alpha, k - 1 , n - k )\n",
    "F_critical"
   ]
  },
  {
   "cell_type": "code",
   "execution_count": 16,
   "id": "74e41866",
   "metadata": {},
   "outputs": [
    {
     "data": {
      "text/plain": [
       "F_onewayResult(statistic=5.500053450812596, pvalue=0.010482206918698694)"
      ]
     },
     "execution_count": 16,
     "metadata": {},
     "output_type": "execute_result"
    }
   ],
   "source": [
    "stats.f_oneway(football,hockey,weight)"
   ]
  },
  {
   "cell_type": "markdown",
   "id": "afb39e89",
   "metadata": {},
   "source": [
    "Вывод: принимаем гипотезу H1: статистически значимые различия в среднем росте взрослых спортсменов есть (pvalue < alpha). "
   ]
  },
  {
   "cell_type": "code",
   "execution_count": null,
   "id": "172fe664",
   "metadata": {},
   "outputs": [],
   "source": []
  }
 ],
 "metadata": {
  "kernelspec": {
   "display_name": "Python 3 (ipykernel)",
   "language": "python",
   "name": "python3"
  },
  "language_info": {
   "codemirror_mode": {
    "name": "ipython",
    "version": 3
   },
   "file_extension": ".py",
   "mimetype": "text/x-python",
   "name": "python",
   "nbconvert_exporter": "python",
   "pygments_lexer": "ipython3",
   "version": "3.9.7"
  }
 },
 "nbformat": 4,
 "nbformat_minor": 5
}
