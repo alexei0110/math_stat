{
 "cells": [
  {
   "cell_type": "markdown",
   "id": "01a9ff98",
   "metadata": {},
   "source": [
    "# Урок 2. Дискретные случайные величины. Закон распределения вероятностей. Биномиальный закон распределения. Распределение Пуассона"
   ]
  },
  {
   "cell_type": "code",
   "execution_count": 51,
   "id": "33268b23",
   "metadata": {},
   "outputs": [],
   "source": [
    "from math import factorial\n",
    "import numpy as np\n",
    "import math"
   ]
  },
  {
   "cell_type": "code",
   "execution_count": 52,
   "id": "19ad62fb",
   "metadata": {},
   "outputs": [],
   "source": [
    "def combinations(n, k):\n",
    "    return (factorial(n) / (factorial(k) * factorial(n - k)))\n",
    "\n",
    "\n",
    "def bernoulli_formula(n, k, p):\n",
    "    return combinations(n, k) * p ** k * (1 - p) ** (n -k) \n",
    "\n",
    "\n",
    "def poisson_formula(n, m, p):\n",
    "    lambda_ = n * p\n",
    "    return (lambda_**m / np.math.factorial(m)) * np.exp(-lambda_)   "
   ]
  },
  {
   "cell_type": "markdown",
   "id": "1e6f5e42",
   "metadata": {},
   "source": [
    "### 1. Вероятность того, что стрелок попадет в мишень, выстрелив один раз, равна 0.8. Стрелок выстрелил 100 раз. Найдите вероятность того, что стрелок попадет в цель ровно 85 раз. "
   ]
  },
  {
   "cell_type": "code",
   "execution_count": 53,
   "id": "46519e1f",
   "metadata": {},
   "outputs": [
    {
     "data": {
      "text/plain": [
       "0.048061793700746355"
      ]
     },
     "execution_count": 53,
     "metadata": {},
     "output_type": "execute_result"
    }
   ],
   "source": [
    "# Применим формулу Бернулли\n",
    "P = bernoulli_formula(100, 85, 0.8)\n",
    "P"
   ]
  },
  {
   "cell_type": "markdown",
   "id": "26cac841",
   "metadata": {},
   "source": [
    "### 2. Вероятность того, что лампочка перегорит в течение первого дня эксплуатации, равна 0.0004. В жилом комплексе после ремонта в один день включили 5000 новых лампочек. Какова вероятность, что ни одна из них не перегорит в первый день? Какова вероятность, что перегорят ровно две? "
   ]
  },
  {
   "cell_type": "code",
   "execution_count": 54,
   "id": "307ad93c",
   "metadata": {},
   "outputs": [
    {
     "name": "stdout",
     "output_type": "stream",
     "text": [
      "0.1353352832366127\n",
      "0.2706705664732254\n"
     ]
    }
   ],
   "source": [
    "# Применим формулу Пуассона\n",
    "P1 = poisson_formula(5000, 0, 0.0004)\n",
    "P2 = poisson_formula(5000, 2, 0.0004)\n",
    "print (P1)\n",
    "print (P2)"
   ]
  },
  {
   "cell_type": "markdown",
   "id": "cb373403",
   "metadata": {},
   "source": [
    "### 3. Монету подбросили 144 раза. Какова вероятность, что орел выпадет ровно 70 раз? "
   ]
  },
  {
   "cell_type": "code",
   "execution_count": 55,
   "id": "ae863418",
   "metadata": {},
   "outputs": [
    {
     "data": {
      "text/plain": [
       "0.06281178035144776"
      ]
     },
     "execution_count": 55,
     "metadata": {},
     "output_type": "execute_result"
    }
   ],
   "source": [
    "# Применим формулу Бернулли\n",
    "P = bernoulli_formula(144, 70, 0.5)\n",
    "P"
   ]
  },
  {
   "cell_type": "markdown",
   "id": "16398084",
   "metadata": {},
   "source": [
    "### 4. В первом ящике находится 10 мячей, из которых 7 - белые. Во втором ящике - 11 мячей, из которых 9 белых. Из каждого ящика вытаскивают случайным образом по два мяча. Какова вероятность того, что все мячи белые? Какова вероятность того, что ровно два мяча белые? Какова вероятность того, что хотя бы один мяч белый? "
   ]
  },
  {
   "cell_type": "markdown",
   "id": "213b9359",
   "metadata": {},
   "source": [
    "Вероятность, что все мячи белые:"
   ]
  },
  {
   "cell_type": "code",
   "execution_count": 56,
   "id": "5d5d8c7f",
   "metadata": {},
   "outputs": [
    {
     "data": {
      "text/plain": [
       "0.3054545454545455"
      ]
     },
     "execution_count": 56,
     "metadata": {},
     "output_type": "execute_result"
    }
   ],
   "source": [
    "P_white = (combinations(7, 2) / combinations(10, 2)) * (combinations(9, 2) / combinations(11, 2))\n",
    "P_white"
   ]
  },
  {
   "cell_type": "markdown",
   "id": "a67fa63b",
   "metadata": {},
   "source": [
    "Вероятность, что ровно два мяча белые:"
   ]
  },
  {
   "cell_type": "code",
   "execution_count": 57,
   "id": "bd553a6a",
   "metadata": {},
   "outputs": [
    {
     "data": {
      "text/plain": [
       "0.20484848484848486"
      ]
     },
     "execution_count": 57,
     "metadata": {},
     "output_type": "execute_result"
    }
   ],
   "source": [
    "P_2b_2w = (combinations(3, 2) / combinations(10, 2)) * (combinations(9, 2) / combinations(11, 2))\n",
    "P_2w_2b = (combinations(7, 2) / combinations(10, 2)) * (combinations(2, 2) / combinations(11, 2))\n",
    "P_1w1b_1b1w = ((combinations(7, 1) * combinations(3, 1)) / combinations(10, 2)) * ( (combinations(9, 1) * combinations(2, 1)) / combinations(11, 2) )\n",
    "\n",
    "P_two_white = P_2b_2w + P_2w_2b + P_1w1b_1b1w\n",
    "P_two_white"
   ]
  },
  {
   "cell_type": "markdown",
   "id": "249622fa",
   "metadata": {},
   "source": [
    "Вероятность того, что хотя бы один мяч белый:"
   ]
  },
  {
   "cell_type": "code",
   "execution_count": 58,
   "id": "5d5155c4",
   "metadata": {},
   "outputs": [
    {
     "data": {
      "text/plain": [
       "0.9987878787878788"
      ]
     },
     "execution_count": 58,
     "metadata": {},
     "output_type": "execute_result"
    }
   ],
   "source": [
    "P_b = (combinations(3, 2) / combinations(10, 2)) * (combinations(2, 2) / combinations(11, 2))\n",
    "P_one_white = 1 - P_b\n",
    "P_one_white"
   ]
  },
  {
   "cell_type": "code",
   "execution_count": null,
   "id": "f13836ff",
   "metadata": {},
   "outputs": [],
   "source": []
  }
 ],
 "metadata": {
  "kernelspec": {
   "display_name": "Python 3 (ipykernel)",
   "language": "python",
   "name": "python3"
  },
  "language_info": {
   "codemirror_mode": {
    "name": "ipython",
    "version": 3
   },
   "file_extension": ".py",
   "mimetype": "text/x-python",
   "name": "python",
   "nbconvert_exporter": "python",
   "pygments_lexer": "ipython3",
   "version": "3.9.7"
  }
 },
 "nbformat": 4,
 "nbformat_minor": 5
}
