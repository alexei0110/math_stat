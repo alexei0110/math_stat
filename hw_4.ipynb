{
 "cells": [
  {
   "cell_type": "markdown",
   "id": "1378677c",
   "metadata": {},
   "source": [
    "### Урок 4. Непрерывные случайные величины. Функция распределения и плотность распределения вероятностей. Равномерное и нормальное распределение. Центральная предельная теорема "
   ]
  },
  {
   "cell_type": "code",
   "execution_count": 8,
   "id": "8872da40",
   "metadata": {},
   "outputs": [],
   "source": [
    "import numpy as np\n",
    "from scipy import stats\n",
    "from scipy.stats import norm"
   ]
  },
  {
   "cell_type": "markdown",
   "id": "f133d2c4",
   "metadata": {},
   "source": [
    "### 1. Случайная непрерывная величина A имеет равномерное распределение на промежутке (200, 800]. Найдите ее среднее значение и дисперсию."
   ]
  },
  {
   "cell_type": "code",
   "execution_count": 9,
   "id": "dc127e7d",
   "metadata": {},
   "outputs": [
    {
     "name": "stdout",
     "output_type": "stream",
     "text": [
      "Среднее значение = 500.0\n"
     ]
    }
   ],
   "source": [
    "a = 200\n",
    "b = 800\n",
    "m = (a + b) / 2 \n",
    "print(f'Среднее значение = {m}')"
   ]
  },
  {
   "cell_type": "code",
   "execution_count": 10,
   "id": "52b9c163",
   "metadata": {},
   "outputs": [
    {
     "name": "stdout",
     "output_type": "stream",
     "text": [
      "Дисперсия = 30000.0\n"
     ]
    }
   ],
   "source": [
    "d = (b - a) ** 2 / 12 \n",
    "print(f'Дисперсия = {d}')"
   ]
  },
  {
   "cell_type": "markdown",
   "id": "6592ffa4",
   "metadata": {},
   "source": [
    "### 2. О случайной непрерывной равномерно распределенной величине B известно, что ее дисперсия равна 0.2. Можно ли найти правую границу величины B и ее среднее значение зная, что левая граница равна 0.5? Если да, найдите ее. "
   ]
  },
  {
   "cell_type": "code",
   "execution_count": 34,
   "id": "c0ec85f6",
   "metadata": {},
   "outputs": [
    {
     "name": "stdout",
     "output_type": "stream",
     "text": [
      "Правая граница = 2.049193338482967\n",
      "Среднее значение = 1.2745966692414834\n"
     ]
    }
   ],
   "source": [
    "d = 0.2\n",
    "a = 0.5\n",
    "b = (12 * d) ** 0.5 + a\n",
    "print('Правая граница =', b)\n",
    "print('Среднее значение =', (a + b) / 2)"
   ]
  },
  {
   "cell_type": "markdown",
   "id": "724ddc2e",
   "metadata": {},
   "source": [
    "### 3. Непрерывная случайная величина X распределена нормально и задана плотностью распределения f(x) = (1 / (4 * sqrt(2*pi))) * (exp(-(x+2)**2) / 32). Найдите: а). M(X) б). D(X) в). std(X) (среднее квадратичное отклонение) "
   ]
  },
  {
   "cell_type": "code",
   "execution_count": 12,
   "id": "1f760f5f",
   "metadata": {},
   "outputs": [
    {
     "name": "stdout",
     "output_type": "stream",
     "text": [
      "Математическое ожидание = -2\n",
      "Дисперсия = 16\n",
      "Среднее квадратичное отклонение = 4\n"
     ]
    }
   ],
   "source": [
    "mu = -2 \n",
    "sigma = 4\n",
    "m = mu \n",
    "d = sigma ** 2 \n",
    "std = sigma \n",
    "print(f'Математическое ожидание = {m}\\nДисперсия = {d}\\nСреднее квадратичное отклонение = {std}')"
   ]
  },
  {
   "cell_type": "markdown",
   "id": "29bca5de",
   "metadata": {},
   "source": [
    "### 4. Рост взрослого населения города X имеет нормальное распределение. Причем, средний рост равен 174 см, а среднее квадратичное отклонение равно 8 см. Какова вероятность того, что случайным образом выбранный взрослый человек имеет рост:\n",
    "а). больше 182 см\n",
    "\n",
    "б). больше 190 см\n",
    "\n",
    "в). от 166 см до 190 см\n",
    "\n",
    "г). от 166 см до 182 см\n",
    "\n",
    "д). от 158 см до 190 см\n",
    "\n",
    "е). не выше 150 см или не ниже 190 см\n",
    "\n",
    "ё). не выше 150 см или не ниже 198 см\n",
    "\n",
    "ж). ниже 166 см."
   ]
  },
  {
   "cell_type": "code",
   "execution_count": 25,
   "id": "c1a73e89",
   "metadata": {},
   "outputs": [
    {
     "data": {
      "text/plain": [
       "0.15865525393145707"
      ]
     },
     "execution_count": 25,
     "metadata": {},
     "output_type": "execute_result"
    }
   ],
   "source": [
    "# a) больше 182 см\n",
    "1 - norm.cdf(1)"
   ]
  },
  {
   "cell_type": "code",
   "execution_count": 26,
   "id": "fa8f5968",
   "metadata": {},
   "outputs": [
    {
     "data": {
      "text/plain": [
       "0.02275013194817921"
      ]
     },
     "execution_count": 26,
     "metadata": {},
     "output_type": "execute_result"
    }
   ],
   "source": [
    "# б) больше 190 см\n",
    "1 - norm.cdf(2)"
   ]
  },
  {
   "cell_type": "code",
   "execution_count": 27,
   "id": "dbb0a0d0",
   "metadata": {},
   "outputs": [
    {
     "data": {
      "text/plain": [
       "0.8185946141203637"
      ]
     },
     "execution_count": 27,
     "metadata": {},
     "output_type": "execute_result"
    }
   ],
   "source": [
    "# в) от 166 см до 190 см\n",
    "norm.cdf(2) - norm.cdf(-1)"
   ]
  },
  {
   "cell_type": "code",
   "execution_count": 28,
   "id": "ce360ae9",
   "metadata": {},
   "outputs": [
    {
     "data": {
      "text/plain": [
       "0.6826894921370859"
      ]
     },
     "execution_count": 28,
     "metadata": {},
     "output_type": "execute_result"
    }
   ],
   "source": [
    "# г) от 166 см до 182 см\n",
    "norm.cdf(1) - norm.cdf(-1)"
   ]
  },
  {
   "cell_type": "code",
   "execution_count": 29,
   "id": "5ac24315",
   "metadata": {},
   "outputs": [
    {
     "data": {
      "text/plain": [
       "0.9544997361036416"
      ]
     },
     "execution_count": 29,
     "metadata": {},
     "output_type": "execute_result"
    }
   ],
   "source": [
    "# д) от 158 см до 190 см\n",
    "norm.cdf(2) - norm.cdf(-2)"
   ]
  },
  {
   "cell_type": "code",
   "execution_count": 30,
   "id": "dcc35d7c",
   "metadata": {},
   "outputs": [
    {
     "data": {
      "text/plain": [
       "0.0241000299798093"
      ]
     },
     "execution_count": 30,
     "metadata": {},
     "output_type": "execute_result"
    }
   ],
   "source": [
    "# е) не выше 150 см или не ниже 190 см\n",
    "norm.cdf(-3) + (1 - norm.cdf(2))"
   ]
  },
  {
   "cell_type": "code",
   "execution_count": 31,
   "id": "8ba02d95",
   "metadata": {},
   "outputs": [
    {
     "data": {
      "text/plain": [
       "0.0026997960632601965"
      ]
     },
     "execution_count": 31,
     "metadata": {},
     "output_type": "execute_result"
    }
   ],
   "source": [
    "# ё) не выше 150 см или не ниже 198 см\n",
    "norm.cdf(-3) + (1 - norm.cdf(3))"
   ]
  },
  {
   "cell_type": "code",
   "execution_count": 32,
   "id": "ce172411",
   "metadata": {},
   "outputs": [
    {
     "data": {
      "text/plain": [
       "0.15865525393145707"
      ]
     },
     "execution_count": 32,
     "metadata": {},
     "output_type": "execute_result"
    }
   ],
   "source": [
    "# ж) ниже 166 см\n",
    "norm.cdf(-1)"
   ]
  },
  {
   "cell_type": "markdown",
   "id": "d3cb28a9",
   "metadata": {},
   "source": [
    "### 5. На сколько сигм (средних квадратичных отклонений) отклоняется рост человека, равный 190 см, от математического ожидания роста в популяции, в которой M(X) = 178 см и D(X) = 25 кв.см? "
   ]
  },
  {
   "cell_type": "code",
   "execution_count": 35,
   "id": "7c52eb50",
   "metadata": {},
   "outputs": [
    {
     "name": "stdout",
     "output_type": "stream",
     "text": [
      "Отклонение составило 2.4 сигм\n"
     ]
    }
   ],
   "source": [
    "m = 178\n",
    "d = 25\n",
    "h = 190\n",
    "std = d ** 0.5\n",
    "print(f'Отклонение составило {(h - m) / std} сигм')"
   ]
  },
  {
   "cell_type": "code",
   "execution_count": null,
   "id": "115233c5",
   "metadata": {},
   "outputs": [],
   "source": []
  }
 ],
 "metadata": {
  "kernelspec": {
   "display_name": "Python 3 (ipykernel)",
   "language": "python",
   "name": "python3"
  },
  "language_info": {
   "codemirror_mode": {
    "name": "ipython",
    "version": 3
   },
   "file_extension": ".py",
   "mimetype": "text/x-python",
   "name": "python",
   "nbconvert_exporter": "python",
   "pygments_lexer": "ipython3",
   "version": "3.9.7"
  }
 },
 "nbformat": 4,
 "nbformat_minor": 5
}
