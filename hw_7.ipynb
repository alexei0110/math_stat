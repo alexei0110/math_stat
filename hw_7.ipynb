{
 "cells": [
  {
   "cell_type": "code",
   "execution_count": 17,
   "id": "9ce846be",
   "metadata": {},
   "outputs": [],
   "source": [
    "import numpy as np"
   ]
  },
  {
   "cell_type": "markdown",
   "id": "7bf592f6",
   "metadata": {},
   "source": [
    "### 1. Даны значения величины заработной платы заемщиков банка (zp) и значения их поведенческого кредитного скоринга (ks): zp = [35, 45, 190, 200, 40, 70, 54, 150, 120, 110], ks = [401, 574, 874, 919, 459, 739, 653, 902, 746, 832]. Используя математические операции, посчитать коэффициенты линейной регрессии, приняв за X заработную плату (то есть, zp - признак), а за y - значения скорингового балла (то есть, ks - целевая переменная). Произвести расчет как с использованием intercept, так и без. "
   ]
  },
  {
   "cell_type": "code",
   "execution_count": 18,
   "id": "bc0150dd",
   "metadata": {},
   "outputs": [],
   "source": [
    "zp = np.array([35, 45, 190, 200, 40, 70, 54, 150, 120, 110]) \n",
    "ks = np.array([401, 574, 874, 919, 459, 739, 653, 902, 746, 832])"
   ]
  },
  {
   "cell_type": "code",
   "execution_count": 19,
   "id": "8fd8b196",
   "metadata": {},
   "outputs": [
    {
     "data": {
      "text/plain": [
       "array([[ 35],\n",
       "       [ 45],\n",
       "       [190],\n",
       "       [200],\n",
       "       [ 40],\n",
       "       [ 70],\n",
       "       [ 54],\n",
       "       [150],\n",
       "       [120],\n",
       "       [110]])"
      ]
     },
     "execution_count": 19,
     "metadata": {},
     "output_type": "execute_result"
    }
   ],
   "source": [
    "X = zp.reshape(10,1)\n",
    "X"
   ]
  },
  {
   "cell_type": "code",
   "execution_count": 20,
   "id": "8c2a939f",
   "metadata": {},
   "outputs": [
    {
     "data": {
      "text/plain": [
       "array([[401],\n",
       "       [574],\n",
       "       [874],\n",
       "       [919],\n",
       "       [459],\n",
       "       [739],\n",
       "       [653],\n",
       "       [902],\n",
       "       [746],\n",
       "       [832]])"
      ]
     },
     "execution_count": 20,
     "metadata": {},
     "output_type": "execute_result"
    }
   ],
   "source": [
    "Y = ks.reshape(10,1)\n",
    "Y"
   ]
  },
  {
   "cell_type": "markdown",
   "id": "c9389e9d",
   "metadata": {},
   "source": [
    "Модель без интерсепта"
   ]
  },
  {
   "cell_type": "code",
   "execution_count": 21,
   "id": "f49c4672",
   "metadata": {},
   "outputs": [
    {
     "data": {
      "text/plain": [
       "array([[5.88982042]])"
      ]
     },
     "execution_count": 21,
     "metadata": {},
     "output_type": "execute_result"
    }
   ],
   "source": [
    "# Найдем коэффиицент beta\n",
    "B = np.dot(np.linalg.inv(np.dot(X.T,X)),X.T@Y)\n",
    "B"
   ]
  },
  {
   "cell_type": "markdown",
   "id": "192cc932",
   "metadata": {},
   "source": [
    "Ответ: B1=5.88982"
   ]
  },
  {
   "cell_type": "markdown",
   "id": "094c2773",
   "metadata": {},
   "source": [
    "Модель с интерсептом"
   ]
  },
  {
   "cell_type": "code",
   "execution_count": 22,
   "id": "37d69ee8",
   "metadata": {},
   "outputs": [
    {
     "data": {
      "text/plain": [
       "array([[  1.,  35.],\n",
       "       [  1.,  45.],\n",
       "       [  1., 190.],\n",
       "       [  1., 200.],\n",
       "       [  1.,  40.],\n",
       "       [  1.,  70.],\n",
       "       [  1.,  54.],\n",
       "       [  1., 150.],\n",
       "       [  1., 120.],\n",
       "       [  1., 110.]])"
      ]
     },
     "execution_count": 22,
     "metadata": {},
     "output_type": "execute_result"
    }
   ],
   "source": [
    "# Добавим единичный столбец к X\n",
    "X = np.hstack([np.ones((10,1)),X])\n",
    "X"
   ]
  },
  {
   "cell_type": "code",
   "execution_count": 23,
   "id": "51060bf5",
   "metadata": {},
   "outputs": [
    {
     "data": {
      "text/plain": [
       "array([[444.17735732],\n",
       "       [  2.62053888]])"
      ]
     },
     "execution_count": 23,
     "metadata": {},
     "output_type": "execute_result"
    }
   ],
   "source": [
    "# Найдем коэффииценты beta\n",
    "B = np.dot(np.linalg.inv(np.dot(X.T,X)),X.T@Y)\n",
    "B"
   ]
  },
  {
   "cell_type": "markdown",
   "id": "cb91320d",
   "metadata": {},
   "source": [
    "Ответ: B0=444.17736; B1=2.62054"
   ]
  },
  {
   "cell_type": "markdown",
   "id": "6c069d5e",
   "metadata": {},
   "source": [
    "### 2. В каких случаях для вычисления доверительных интервалов и проверки статистических гипотез используется таблица значений функции Лапласа, а в каких - таблица критических точек распределения Стьюдента?"
   ]
  },
  {
   "cell_type": "markdown",
   "id": "7a37a430",
   "metadata": {},
   "source": [
    "Ответ: Таблица значений функции Лапласа используется в случаях, когда дисперсия генеральной совокупности известна. Таблица критическимх распределений Стьюдента используется, когда дисперсия генеральной совокупности неизвестна."
   ]
  },
  {
   "cell_type": "code",
   "execution_count": null,
   "id": "820f8a9b",
   "metadata": {},
   "outputs": [],
   "source": []
  }
 ],
 "metadata": {
  "kernelspec": {
   "display_name": "Python 3 (ipykernel)",
   "language": "python",
   "name": "python3"
  },
  "language_info": {
   "codemirror_mode": {
    "name": "ipython",
    "version": 3
   },
   "file_extension": ".py",
   "mimetype": "text/x-python",
   "name": "python",
   "nbconvert_exporter": "python",
   "pygments_lexer": "ipython3",
   "version": "3.9.7"
  }
 },
 "nbformat": 4,
 "nbformat_minor": 5
}
