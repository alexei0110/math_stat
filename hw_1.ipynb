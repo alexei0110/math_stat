{
 "cells": [
  {
   "cell_type": "markdown",
   "id": "1d2135b4",
   "metadata": {},
   "source": [
    "# Урок 1. Случайные события. Условная вероятность. Формула Байеса. Независимые испытания"
   ]
  },
  {
   "cell_type": "markdown",
   "id": "d116a62a",
   "metadata": {},
   "source": [
    "### 1. Из колоды в 52 карты извлекаются случайным образом 4 карты. a) Найти вероятность того, что все карты – крести. б) Найти вероятность, что среди 4-х карт окажется хотя бы один туз. "
   ]
  },
  {
   "cell_type": "markdown",
   "id": "b0da513d",
   "metadata": {},
   "source": [
    "### a) "
   ]
  },
  {
   "cell_type": "code",
   "execution_count": 88,
   "id": "eb785242",
   "metadata": {},
   "outputs": [],
   "source": [
    "from math import factorial"
   ]
  },
  {
   "cell_type": "code",
   "execution_count": 89,
   "id": "d65c1003",
   "metadata": {},
   "outputs": [],
   "source": [
    "def combinations(n, k):\n",
    "    return int(factorial(n) / (factorial(k) * factorial(n - k)))"
   ]
  },
  {
   "cell_type": "markdown",
   "id": "dfb0874a",
   "metadata": {},
   "source": [
    "Найдем количество карт крести во всей колоде:"
   ]
  },
  {
   "cell_type": "code",
   "execution_count": 90,
   "id": "8d060231",
   "metadata": {},
   "outputs": [
    {
     "name": "stdout",
     "output_type": "stream",
     "text": [
      "13\n"
     ]
    }
   ],
   "source": [
    "numb_of_kr = 52 / 4\n",
    "print(int(numb_of_kr))"
   ]
  },
  {
   "cell_type": "markdown",
   "id": "36c5f9cf",
   "metadata": {},
   "source": [
    "Вероятность того, что все карты – крести:"
   ]
  },
  {
   "cell_type": "code",
   "execution_count": 91,
   "id": "601a1c4a",
   "metadata": {},
   "outputs": [
    {
     "name": "stdout",
     "output_type": "stream",
     "text": [
      "Вероятность: 0.003\n"
     ]
    }
   ],
   "source": [
    "C_kr = combinations(13, 4)\n",
    "C = combinations(52, 4)\n",
    "P = C_kr / C\n",
    "print(f'Вероятность: {round(P, 3)}')"
   ]
  },
  {
   "cell_type": "markdown",
   "id": "e5bbb9eb",
   "metadata": {},
   "source": [
    "### б) "
   ]
  },
  {
   "cell_type": "markdown",
   "id": "358e16c9",
   "metadata": {},
   "source": [
    "Всего карт без тузов 48 штук."
   ]
  },
  {
   "cell_type": "markdown",
   "id": "4e1c38b4",
   "metadata": {},
   "source": [
    "Найдем вероятность, что среди выбранных 4-х карт не будет ни одного туза:"
   ]
  },
  {
   "cell_type": "code",
   "execution_count": 92,
   "id": "204bf74f",
   "metadata": {},
   "outputs": [
    {
     "name": "stdout",
     "output_type": "stream",
     "text": [
      "Вероятность без туза: 0.719\n"
     ]
    }
   ],
   "source": [
    "С_out = combinations(48, 4)\n",
    "C = combinations(52, 4)\n",
    "P = round(С_out / C, 3)\n",
    "print(f'Вероятность без туза: {P}')"
   ]
  },
  {
   "cell_type": "markdown",
   "id": "77a7a191",
   "metadata": {},
   "source": [
    "Найдем вероятность, что среди выбранных 4-х карт будет хотя бы один туз:"
   ]
  },
  {
   "cell_type": "code",
   "execution_count": 93,
   "id": "ba9aa951",
   "metadata": {},
   "outputs": [
    {
     "name": "stdout",
     "output_type": "stream",
     "text": [
      "Вероятность хотя бы с одним тузом: 0.281\n"
     ]
    }
   ],
   "source": [
    "P_with = 1 - P\n",
    "print(f'Вероятность хотя бы с одним тузом: {P_with}')"
   ]
  },
  {
   "cell_type": "markdown",
   "id": "53a4d6a1",
   "metadata": {},
   "source": [
    "### 2. На входной двери подъезда установлен кодовый замок, содержащий десять кнопок с цифрами от 0 до 9. Код содержит три цифры, которые нужно нажать одновременно. Какова вероятность того, что человек, не знающий код, откроет дверь с первой попытки?"
   ]
  },
  {
   "cell_type": "markdown",
   "id": "5fe5e8e9",
   "metadata": {},
   "source": [
    "Число сочетаний из 10 цифр по 3 цифры в каждом (порядок не важен, т.к. нужно нажать кнопки одновременно) равно:"
   ]
  },
  {
   "cell_type": "code",
   "execution_count": 94,
   "id": "216b1619",
   "metadata": {},
   "outputs": [
    {
     "data": {
      "text/plain": [
       "120"
      ]
     },
     "execution_count": 94,
     "metadata": {},
     "output_type": "execute_result"
    }
   ],
   "source": [
    "С = combinations(10, 3)\n",
    "С"
   ]
  },
  {
   "cell_type": "markdown",
   "id": "e27b34e3",
   "metadata": {},
   "source": [
    "Вероятность того, что человек, не знающий код, откроет дверь с первой попытки равна:"
   ]
  },
  {
   "cell_type": "code",
   "execution_count": 95,
   "id": "11e07884",
   "metadata": {},
   "outputs": [
    {
     "name": "stdout",
     "output_type": "stream",
     "text": [
      "0.008\n"
     ]
    }
   ],
   "source": [
    "P = 1 / combinations(10, 3)\n",
    "print(round(P, 3))"
   ]
  },
  {
   "cell_type": "markdown",
   "id": "9eab5f76",
   "metadata": {},
   "source": [
    "### 3. В ящике имеется 15 деталей, из которых 9 окрашены. Рабочий случайным образом извлекает 3 детали. Какова вероятность того, что все извлеченные детали окрашены? "
   ]
  },
  {
   "cell_type": "code",
   "execution_count": 96,
   "id": "52cd126c",
   "metadata": {},
   "outputs": [
    {
     "name": "stdout",
     "output_type": "stream",
     "text": [
      "Вероятность, что все детали окрашены: 0.185\n"
     ]
    }
   ],
   "source": [
    "C_color = combinations(9, 3)\n",
    "C = combinations(15, 3)\n",
    "P = round(C_color / C, 3)\n",
    "print(f'Вероятность, что все детали окрашены: {P}')"
   ]
  },
  {
   "cell_type": "markdown",
   "id": "1e0dc893",
   "metadata": {},
   "source": [
    "### 4. В лотерее 100 билетов. Из них 2 выигрышных. Какова вероятность того, что 2 приобретенных билета окажутся выигрышными? "
   ]
  },
  {
   "cell_type": "code",
   "execution_count": 97,
   "id": "b3df4202",
   "metadata": {},
   "outputs": [
    {
     "name": "stdout",
     "output_type": "stream",
     "text": [
      "Вероятность, что 2 приобретенных билета окажутся выигрышными: 0.0002\n"
     ]
    }
   ],
   "source": [
    "C_w = combinations(2, 2)\n",
    "C = combinations(100, 2)\n",
    "P = round(C_w / C, 4)\n",
    "print(f'Вероятность, что 2 приобретенных билета окажутся выигрышными: {P}')"
   ]
  },
  {
   "cell_type": "code",
   "execution_count": null,
   "id": "41bc158e",
   "metadata": {},
   "outputs": [],
   "source": []
  }
 ],
 "metadata": {
  "kernelspec": {
   "display_name": "Python 3 (ipykernel)",
   "language": "python",
   "name": "python3"
  },
  "language_info": {
   "codemirror_mode": {
    "name": "ipython",
    "version": 3
   },
   "file_extension": ".py",
   "mimetype": "text/x-python",
   "name": "python",
   "nbconvert_exporter": "python",
   "pygments_lexer": "ipython3",
   "version": "3.9.7"
  }
 },
 "nbformat": 4,
 "nbformat_minor": 5
}
