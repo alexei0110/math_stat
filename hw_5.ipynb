{
 "cells": [
  {
   "cell_type": "markdown",
   "id": "a8021e82",
   "metadata": {},
   "source": [
    "###  Урок 5. Проверка статистических гипотез. P-значения. Доверительные интервалы. A/B-тестирование"
   ]
  },
  {
   "cell_type": "code",
   "execution_count": 5,
   "id": "1dcb2a6d",
   "metadata": {},
   "outputs": [],
   "source": [
    "import numpy as np\n",
    "from scipy import stats"
   ]
  },
  {
   "cell_type": "markdown",
   "id": "f492b2bc",
   "metadata": {},
   "source": [
    "### 1. Известно, что генеральная совокупность распределена нормально со средним квадратическим отклонением, равным 16. Найти доверительный интервал для оценки математического ожидания a с надежностью 0.95, если выборочная средняя M = 80, а объем выборки n = 256. "
   ]
  },
  {
   "cell_type": "code",
   "execution_count": 6,
   "id": "03c8c596",
   "metadata": {},
   "outputs": [],
   "source": [
    "std = 16 # среднее квадратическое отклонение\n",
    "p = 0.95 # уровень доверия\n",
    "mean = 80 # выборочное среднее\n",
    "n = 256 # объём выборки"
   ]
  },
  {
   "cell_type": "code",
   "execution_count": 7,
   "id": "3efc3fa8",
   "metadata": {},
   "outputs": [
    {
     "data": {
      "text/plain": [
       "(-1.959963984540054, 1.959963984540054)"
      ]
     },
     "execution_count": 7,
     "metadata": {},
     "output_type": "execute_result"
    }
   ],
   "source": [
    "alpha = 1 - p # уровень значимости\n",
    "\n",
    "# считаем z-критерии:\n",
    "\n",
    "z1 = stats.norm.ppf(alpha / 2)\n",
    "z2 = stats.norm.ppf(1 - alpha / 2)\n",
    "\n",
    "z1, z2"
   ]
  },
  {
   "cell_type": "code",
   "execution_count": 8,
   "id": "0464aa2b",
   "metadata": {},
   "outputs": [
    {
     "name": "stdout",
     "output_type": "stream",
     "text": [
      "Ответ: доверительный интервал (78.04003601545995; 81.95996398454005)\n"
     ]
    }
   ],
   "source": [
    "a1 = mean + z1 * std / np.sqrt(n) # левая граница\n",
    "a2 = mean + z2 * std / np.sqrt(n) # правая граница\n",
    "\n",
    "print(f'Ответ: доверительный интервал ({a1}; {a2})')"
   ]
  },
  {
   "cell_type": "markdown",
   "id": "368a37fc",
   "metadata": {},
   "source": [
    "### 2. В результате 10 независимых измерений некоторой величины X, выполненных с одинаковой точностью, получены опытные данные: 6.9, 6.1, 6.2, 6.8, 7.5, 6.3, 6.4, 6.9, 6.7, 6.1. Предполагая, что результаты измерений подчинены нормальному закону распределения вероятностей, оценить истинное значение величины X при помощи доверительного интервала, покрывающего это значение с доверительной вероятностью 0,95. "
   ]
  },
  {
   "cell_type": "code",
   "execution_count": 9,
   "id": "f3f80f81",
   "metadata": {},
   "outputs": [
    {
     "data": {
      "text/plain": [
       "array([6.9, 6.1, 6.2, 6.8, 7.5, 6.3, 6.4, 6.9, 6.7, 6.1])"
      ]
     },
     "execution_count": 9,
     "metadata": {},
     "output_type": "execute_result"
    }
   ],
   "source": [
    "x = np.array((6.9, 6.1, 6.2, 6.8, 7.5, 6.3, 6.4, 6.9, 6.7, 6.1))\n",
    "x"
   ]
  },
  {
   "cell_type": "code",
   "execution_count": 10,
   "id": "0d3c038a",
   "metadata": {},
   "outputs": [
    {
     "data": {
      "text/plain": [
       "6.590000000000001"
      ]
     },
     "execution_count": 10,
     "metadata": {},
     "output_type": "execute_result"
    }
   ],
   "source": [
    "mu = np.mean(x) # среднее по выборке\n",
    "mu"
   ]
  },
  {
   "cell_type": "code",
   "execution_count": 11,
   "id": "753eaaed",
   "metadata": {},
   "outputs": [
    {
     "data": {
      "text/plain": [
       "0.4508017549014448"
      ]
     },
     "execution_count": 11,
     "metadata": {},
     "output_type": "execute_result"
    }
   ],
   "source": [
    "std = np.std(x, ddof=1) # несмещенное стандартное отклонение\n",
    "std"
   ]
  },
  {
   "cell_type": "code",
   "execution_count": 12,
   "id": "cae41c97",
   "metadata": {},
   "outputs": [
    {
     "data": {
      "text/plain": [
       "(-2.2621571627409915, 2.2621571627409915)"
      ]
     },
     "execution_count": 12,
     "metadata": {},
     "output_type": "execute_result"
    }
   ],
   "source": [
    "alpha = 1 - p\n",
    "p = 0.95\n",
    "n = 10\n",
    "# найдем критерии Стьюдента:\n",
    "t1 = stats.t.ppf(alpha / 2, df = n - 1)\n",
    "t2 = stats.t.ppf(1 - alpha / 2, df = n - 1)\n",
    "t1, t2"
   ]
  },
  {
   "cell_type": "code",
   "execution_count": 13,
   "id": "dc72d0b5",
   "metadata": {},
   "outputs": [
    {
     "name": "stdout",
     "output_type": "stream",
     "text": [
      "Ответ: доверительный интервал (6.267515851415713; 6.912484148584288)\n"
     ]
    }
   ],
   "source": [
    "a1 = mu + t1 * std / np.sqrt(n) # левая граница\n",
    "a2 = mu + t2 * std / np.sqrt(n) # правая граница\n",
    "\n",
    "print(f'Ответ: доверительный интервал ({a1}; {a2})')"
   ]
  },
  {
   "cell_type": "markdown",
   "id": "4dc95ba8",
   "metadata": {},
   "source": [
    "### 3. Утверждается, что шарики для подшипников, изготовленные автоматическим станком, имеют средний диаметр 17 мм. Используя односторонний критерий с α=0,05, проверить эту гипотезу, если в выборке из n=100 шариков средний диаметр оказался равным 17.5 мм, а дисперсия известна и равна 4 мм. "
   ]
  },
  {
   "cell_type": "code",
   "execution_count": 14,
   "id": "8f75809d",
   "metadata": {},
   "outputs": [],
   "source": [
    "mu_0 = 17\n",
    "alpha = 0.05\n",
    "n = 100\n",
    "mu = 17.5\n",
    "var = 4\n",
    "std = var ** 0.5"
   ]
  },
  {
   "cell_type": "code",
   "execution_count": 15,
   "id": "e90c2d18",
   "metadata": {},
   "outputs": [
    {
     "data": {
      "text/plain": [
       "1.6448536269514722"
      ]
     },
     "execution_count": 15,
     "metadata": {},
     "output_type": "execute_result"
    }
   ],
   "source": [
    "# H0: mu = mu_0 - нулевая гипотеза\n",
    "# H1: mu > mu_0 - альтернативная гипотеза\n",
    "# Найдем z-табличное (критическое):\n",
    "z1 = stats.norm.ppf(1 - alpha)\n",
    "z1"
   ]
  },
  {
   "cell_type": "code",
   "execution_count": 16,
   "id": "1214cb1b",
   "metadata": {},
   "outputs": [
    {
     "data": {
      "text/plain": [
       "2.5"
      ]
     },
     "execution_count": 16,
     "metadata": {},
     "output_type": "execute_result"
    }
   ],
   "source": [
    "# Найдем z-расчетное:\n",
    "z2 = (mu - mu_0) / (std / np.sqrt(n))\n",
    "z2"
   ]
  },
  {
   "cell_type": "markdown",
   "id": "5cb195c0",
   "metadata": {},
   "source": [
    "Вывод: так как найденное значение критерия превысило критическое значение (2,5 > 1,645) и попало в область критических значений, нулевую гипотезу отвергаем (средний размер шариков не равен 17) и принимаем альтернативную гипотезу (средний размер шариков равен 17,5) на уровне статистической значимости 5%."
   ]
  },
  {
   "cell_type": "markdown",
   "id": "07d35ba1",
   "metadata": {},
   "source": [
    "### 4. Продавец утверждает, что средний вес пачки печенья составляет 200 г. Из партии извлечена выборка из 10 пачек. Вес каждой пачки составляет: 202, 203, 199, 197, 195, 201, 200, 204, 194, 190. Известно, что их веса распределены нормально. Верно ли утверждение продавца, если учитывать, что доверительная вероятность равна 99%? "
   ]
  },
  {
   "cell_type": "code",
   "execution_count": 24,
   "id": "72d95e9e",
   "metadata": {},
   "outputs": [
    {
     "data": {
      "text/plain": [
       "array([202, 203, 199, 197, 195, 201, 200, 204, 194, 190])"
      ]
     },
     "execution_count": 24,
     "metadata": {},
     "output_type": "execute_result"
    }
   ],
   "source": [
    "mu_0 = 200\n",
    "alpha = 0.01\n",
    "n = 10\n",
    "x = np.array((202, 203, 199, 197, 195, 201, 200, 204, 194, 190))\n",
    "x"
   ]
  },
  {
   "cell_type": "code",
   "execution_count": 25,
   "id": "1f51fbae",
   "metadata": {},
   "outputs": [
    {
     "data": {
      "text/plain": [
       "198.5"
      ]
     },
     "execution_count": 25,
     "metadata": {},
     "output_type": "execute_result"
    }
   ],
   "source": [
    "mu = np.mean(x) # среднее по выборке\n",
    "mu"
   ]
  },
  {
   "cell_type": "code",
   "execution_count": 26,
   "id": "77883424",
   "metadata": {},
   "outputs": [
    {
     "data": {
      "text/plain": [
       "4.453463071962462"
      ]
     },
     "execution_count": 26,
     "metadata": {},
     "output_type": "execute_result"
    }
   ],
   "source": [
    "std = np.std(x, ddof=1) # несмещенное стандартное отклонение\n",
    "std"
   ]
  },
  {
   "cell_type": "code",
   "execution_count": 27,
   "id": "20632333",
   "metadata": {},
   "outputs": [
    {
     "data": {
      "text/plain": [
       "(-3.24983554401537, 3.2498355440153697)"
      ]
     },
     "execution_count": 27,
     "metadata": {},
     "output_type": "execute_result"
    }
   ],
   "source": [
    "# найдем критерии Стьюдента:\n",
    "t1 = stats.t.ppf(alpha / 2, df = n - 1)\n",
    "t2 = stats.t.ppf(1 - alpha / 2, df = n - 1)\n",
    "t1, t2"
   ]
  },
  {
   "cell_type": "code",
   "execution_count": 28,
   "id": "244cd0f4",
   "metadata": {},
   "outputs": [
    {
     "data": {
      "text/plain": [
       "-1.0651074037450896"
      ]
     },
     "execution_count": 28,
     "metadata": {},
     "output_type": "execute_result"
    }
   ],
   "source": [
    "# найдем расчетное значение:\n",
    "t = (mu - mu_0) / (std / np.sqrt(n))\n",
    "t"
   ]
  },
  {
   "cell_type": "code",
   "execution_count": 29,
   "id": "229f4984",
   "metadata": {},
   "outputs": [],
   "source": [
    "# H0: mu = mu_0 - принимаем нулевую гипотезу\n",
    "# H1: mu != mu_0 - принимаем альтернативную гипотезу"
   ]
  },
  {
   "cell_type": "markdown",
   "id": "c5998338",
   "metadata": {},
   "source": [
    "Вывод: так как найденное значение критерия больше t1, но меньше t2, следовательно принимаем нулевую гипотезу. Средний вес пачки печенья составляет 200 г"
   ]
  },
  {
   "cell_type": "code",
   "execution_count": null,
   "id": "122a5393",
   "metadata": {},
   "outputs": [],
   "source": []
  }
 ],
 "metadata": {
  "kernelspec": {
   "display_name": "Python 3 (ipykernel)",
   "language": "python",
   "name": "python3"
  },
  "language_info": {
   "codemirror_mode": {
    "name": "ipython",
    "version": 3
   },
   "file_extension": ".py",
   "mimetype": "text/x-python",
   "name": "python",
   "nbconvert_exporter": "python",
   "pygments_lexer": "ipython3",
   "version": "3.9.7"
  }
 },
 "nbformat": 4,
 "nbformat_minor": 5
}
